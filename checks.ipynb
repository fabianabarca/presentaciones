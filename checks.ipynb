{
 "cells": [
  {
   "cell_type": "markdown",
   "metadata": {},
   "source": [
    "# Checks"
   ]
  },
  {
   "cell_type": "code",
   "execution_count": 2,
   "metadata": {},
   "outputs": [
    {
     "name": "stdout",
     "output_type": "stream",
     "text": [
      "a = -0.5, b = 0.0\n"
     ]
    }
   ],
   "source": [
    "import numpy as np\n",
    "\n",
    "a1, b1, c1 = 16, -8, -8\n",
    "a2, b2, c2 = 16, 8, -8\n",
    "\n",
    "A = np.array([[a1, b1], [a2, b2]])\n",
    "B = np.array([c1, c2])\n",
    "\n",
    "solution = np.linalg.solve(A, B)\n",
    "x, y = solution\n",
    "\n",
    "print(f\"a = {x}, b = {y}\")"
   ]
  },
  {
   "cell_type": "code",
   "execution_count": 19,
   "metadata": {},
   "outputs": [
    {
     "name": "stdout",
     "output_type": "stream",
     "text": [
      "offset = 360.0\n",
      "a = -1.54320987654321e-05, b = 0.0\n",
      "1.5798611111111112\n"
     ]
    }
   ],
   "source": [
    "from datetime import datetime, time\n",
    "\n",
    "timestamp = datetime.now()\n",
    "today = datetime.today()\n",
    "sunrise = time(6, 0, 0)\n",
    "sunset = time(18, 0, 0)\n",
    "sunrise_datetime = datetime.combine(today, sunrise)\n",
    "sunset_datetime = datetime.combine(today, sunset)\n",
    "# Determinación de la ecuación de la parábola\n",
    "min_total = (sunset_datetime - sunrise_datetime).total_seconds() / 60\n",
    "offset = min_total / 2\n",
    "print(f\"offset = {offset}\")\n",
    "z1 = -offset\n",
    "z2 = offset\n",
    "# Valor máximo\n",
    "c = 2\n",
    "# Fórmula general\n",
    "a1, b1, c1 = 4*z1**2, 4*z1, -4*c\n",
    "a2, b2, c2 = 4*z2**2, 4*z2, -4*c\n",
    "A = np.array([[a1, b1], [a2, b2]])\n",
    "B = np.array([c1, c2])\n",
    "solution = np.linalg.solve(A, B)\n",
    "# Parámetros de la parábola\n",
    "a, b = solution\n",
    "print(f\"a = {a}, b = {b}\")\n",
    "# Valor del parámetro a la hora actual\n",
    "min = (timestamp - datetime.combine(timestamp.date(), sunrise)).seconds / 60\n",
    "min = 195\n",
    "param = a*(min - offset)**2 + b*(min - offset) + c\n",
    "print(param)"
   ]
  },
  {
   "cell_type": "code",
   "execution_count": 25,
   "metadata": {},
   "outputs": [
    {
     "name": "stdout",
     "output_type": "stream",
     "text": [
      "dist_name = rayleigh\n"
     ]
    }
   ],
   "source": [
    "import random\n",
    "\n",
    "# Datos del proyecto\n",
    "distributions = [\n",
    "    \"burr12\",\n",
    "    \"cauchy\",\n",
    "    \"chi2\",\n",
    "    \"expon\",\n",
    "    \"f\",\n",
    "    \"fisk\",\n",
    "    \"gamma\",\n",
    "    \"gompertz\",\n",
    "    \"johnsonsb\",\n",
    "    \"johnsonsu\",\n",
    "    \"laplace\",\n",
    "    \"levy\",\n",
    "    \"logistic\",\n",
    "    \"lognorm\",\n",
    "    \"nakagami\",\n",
    "    \"pareto\",\n",
    "    \"rayleigh\",\n",
    "    \"rice\",\n",
    "    \"t\",\n",
    "    \"uniform\",\n",
    "]\n",
    "params = {\n",
    "    \"burr12\": (3, 2),\n",
    "    \"cauchy\": (),\n",
    "    \"chi2\": (4,),\n",
    "    \"expon\": (),\n",
    "    \"f\": (5, 2),\n",
    "    \"fisk\": (4,),\n",
    "    \"gamma\": (3,),\n",
    "    \"gompertz\": (1,),\n",
    "    \"johnsonsb\": (0.5, 0.5),\n",
    "    \"johnsonsu\": (0.5, 0.5),\n",
    "    \"laplace\": (),\n",
    "    \"levy\": (),\n",
    "    \"logistic\": (),\n",
    "    \"lognorm\": (1,),\n",
    "    \"nakagami\": (3.24,),\n",
    "    \"pareto\": (2),\n",
    "    \"rayleigh\": (),\n",
    "    \"rice\": (2,),\n",
    "    \"t\": (5,),\n",
    "    \"uniform\": (),\n",
    "}\n",
    "\n",
    "random.seed(207)\n",
    "dist_name = random.sample(distributions, 1)[0]\n",
    "print(f\"dist_name = {dist_name}\")"
   ]
  },
  {
   "cell_type": "code",
   "execution_count": null,
   "metadata": {},
   "outputs": [],
   "source": []
  }
 ],
 "metadata": {
  "kernelspec": {
   "display_name": "Python 3",
   "language": "python",
   "name": "python3"
  },
  "language_info": {
   "codemirror_mode": {
    "name": "ipython",
    "version": 3
   },
   "file_extension": ".py",
   "mimetype": "text/x-python",
   "name": "python",
   "nbconvert_exporter": "python",
   "pygments_lexer": "ipython3",
   "version": "3.11.5"
  }
 },
 "nbformat": 4,
 "nbformat_minor": 2
}
